{
  "nbformat": 4,
  "nbformat_minor": 0,
  "metadata": {
    "colab": {
      "provenance": [],
      "authorship_tag": "ABX9TyNhxK+axuLsEpIWbdmNwAy/",
      "include_colab_link": true
    },
    "kernelspec": {
      "name": "python3",
      "display_name": "Python 3"
    },
    "language_info": {
      "name": "python"
    }
  },
  "cells": [
    {
      "cell_type": "markdown",
      "metadata": {
        "id": "view-in-github",
        "colab_type": "text"
      },
      "source": [
        "<a href=\"https://colab.research.google.com/github/newmantic/Kalman/blob/main/Kalman.ipynb\" target=\"_parent\"><img src=\"https://colab.research.google.com/assets/colab-badge.svg\" alt=\"Open In Colab\"/></a>"
      ]
    },
    {
      "cell_type": "code",
      "execution_count": 1,
      "metadata": {
        "id": "oHOy2dV8BL4G"
      },
      "outputs": [],
      "source": [
        "import numpy as np\n",
        "\n",
        "def kalman_filter(z, A, H, Q, R, x0, P0):\n",
        "    \"\"\"\n",
        "    Kalman filter implementation.\n",
        "\n",
        "    Parameters:\n",
        "    - z: Measurement vector (array of measurements over time)\n",
        "    - A: State transition matrix\n",
        "    - H: Observation matrix\n",
        "    - Q: Process noise covariance matrix\n",
        "    - R: Measurement noise covariance matrix\n",
        "    - x0: Initial state estimate\n",
        "    - P0: Initial covariance estimate\n",
        "\n",
        "    Returns:\n",
        "    - x_filtered: Filtered state estimates over time\n",
        "    - P_filtered: Filtered covariance estimates over time\n",
        "    \"\"\"\n",
        "    n_timesteps = len(z)\n",
        "    n_states = x0.shape[0]\n",
        "\n",
        "    # Initialize arrays to store filtered estimates\n",
        "    x_filtered = np.zeros((n_timesteps, n_states))\n",
        "    P_filtered = np.zeros((n_timesteps, n_states, n_states))\n",
        "\n",
        "    # Set initial estimates\n",
        "    x_filtered[0] = x0\n",
        "    P_filtered[0] = P0\n",
        "\n",
        "    for k in range(1, n_timesteps):\n",
        "        # Prediction step\n",
        "        x_pred = A @ x_filtered[k-1]\n",
        "        P_pred = A @ P_filtered[k-1] @ A.T + Q\n",
        "\n",
        "        # Update step\n",
        "        y = z[k] - H @ x_pred  # Innovation (measurement residual)\n",
        "        S = H @ P_pred @ H.T + R  # Innovation covariance\n",
        "        K = P_pred @ H.T @ np.linalg.inv(S)  # Kalman gain\n",
        "\n",
        "        x_filtered[k] = x_pred + K @ y\n",
        "        P_filtered[k] = P_pred - K @ H @ P_pred\n",
        "\n",
        "    return x_filtered, P_filtered"
      ]
    },
    {
      "cell_type": "code",
      "source": [
        "# Define system parameters\n",
        "dt = 1.0  # Time step\n",
        "A = np.array([[1, dt], [0, 1]])  # State transition matrix\n",
        "H = np.array([[1, 0]])  # Observation matrix\n",
        "Q = np.array([[1e-5, 0], [0, 1e-5]])  # Process noise covariance\n",
        "R = np.array([[0.1]])  # Measurement noise covariance\n",
        "x0 = np.array([0, 1])  # Initial state (position=0, velocity=1)\n",
        "P0 = np.eye(2)  # Initial covariance\n",
        "\n",
        "# Simulated noisy measurements (position only)\n",
        "z = np.array([0.39, 1.18, 2.04, 2.92, 4.01, 5.02, 5.88, 6.79, 7.91, 9.02])\n",
        "\n",
        "# Apply Kalman filter\n",
        "x_filtered, P_filtered = kalman_filter(z, A, H, Q, R, x0, P0)\n",
        "\n",
        "# Print filtered states (position and velocity)\n",
        "print(\"Filtered states (position, velocity):\")\n",
        "print(x_filtered)"
      ],
      "metadata": {
        "colab": {
          "base_uri": "https://localhost:8080/"
        },
        "id": "S_9savG8BS6s",
        "outputId": "3ff29688-2040-4023-a163-cc0d26584a0d"
      },
      "execution_count": 2,
      "outputs": [
        {
          "output_type": "stream",
          "name": "stdout",
          "text": [
            "Filtered states (position, velocity):\n",
            "[[0.         1.        ]\n",
            " [1.17142861 1.08571388]\n",
            " [2.06666591 0.93333406]\n",
            " [2.93774217 0.89909199]\n",
            " [3.95297422 0.94643906]\n",
            " [4.96960777 0.96905284]\n",
            " [5.90863519 0.96106905]\n",
            " [6.83337445 0.95284812]\n",
            " [7.83702564 0.96285484]\n",
            " [8.88201354 0.97718365]]\n"
          ]
        }
      ]
    }
  ]
}